{
 "cells": [
  {
   "cell_type": "code",
   "execution_count": 40,
   "metadata": {
    "collapsed": true
   },
   "outputs": [],
   "source": [
    "import pandas as pd\n",
    "import numpy as np\n",
    "import re\n",
    "import matplotlib.pyplot as plt\n",
    "import pymysql as mdb\n",
    "%matplotlib inline\n",
    "import geocoder\n",
    "from sklearn import datasets, linear_model\n",
    "import pickle\n",
    "import geocoder\n",
    "import pandas as pd\n",
    "import pymysql as mdb\n",
    "import numpy as np\n",
    "from sklearn import datasets, linear_model\n",
    "from sklearn.neighbors import KernelDensity\n",
    "import scipy.stats as st\n"
   ]
  },
  {
   "cell_type": "code",
   "execution_count": 86,
   "metadata": {
    "collapsed": true
   },
   "outputs": [],
   "source": [
    "zipcode = '10003'\n",
    "#instead sample randomly from the last two years, train on 80% and test on 20%\n",
    "con = mdb.connect('localhost', 'root', '', 'noisecomplaintsnewcoord2')\n",
    "data2015 = pd.read_sql('SELECT * FROM noisecomplaintsnewcoordtable2 WHERE incident_zip = \"%s\"  AND created_date <= \"2015-10-31\" AND created_date >= \"2015-01-01\"' %(zipcode), con)\n",
    "data2014 = pd.read_sql('SELECT * FROM noisecomplaintsnewcoordtable2 WHERE incident_zip = \"%s\"  AND created_date <= \"2014-10-31\" AND created_date >= \"2014-01-01\"' %(zipcode), con)\n",
    "data = pd.read_sql('SELECT * FROM noisecomplaintsnewcoordtable2 WHERE incident_zip = \"%s\"  AND created_date <= \"2015-10-31\" AND created_date >= \"2014-01-01\"' %(zipcode), con)"
   ]
  },
  {
   "cell_type": "code",
   "execution_count": 109,
   "metadata": {
    "collapsed": false
   },
   "outputs": [],
   "source": [
    "zipcode = '10013'\n",
    "data = pd.read_sql('SELECT * FROM noisecomplaintsnewcoordtable2 WHERE incident_zip = \"%s\"  AND created_date <= \"2015-10-31\" AND created_date >= \"2010-01-01\"' %(zipcode), con)"
   ]
  },
  {
   "cell_type": "code",
   "execution_count": 110,
   "metadata": {
    "collapsed": true
   },
   "outputs": [],
   "source": [
    "data['created_date']=pd.to_datetime(data['created_date'])\n",
    "data.index = data.created_date\n",
    "data['count'] = 1\n",
    "dateandcount = data['count']\n",
    "dfweek=dateandcount.resample('W',how='sum')"
   ]
  },
  {
   "cell_type": "code",
   "execution_count": 111,
   "metadata": {
    "collapsed": true
   },
   "outputs": [],
   "source": [
    "countarrayw=dfweek.values\n",
    "countarrayw[np.isnan(countarrayw)] = 0"
   ]
  },
  {
   "cell_type": "code",
   "execution_count": 46,
   "metadata": {
    "collapsed": false
   },
   "outputs": [
    {
     "data": {
      "text/plain": [
       "305"
      ]
     },
     "execution_count": 46,
     "metadata": {},
     "output_type": "execute_result"
    }
   ],
   "source": [
    "len(countarrayw)"
   ]
  },
  {
   "cell_type": "code",
   "execution_count": 112,
   "metadata": {
    "collapsed": false
   },
   "outputs": [],
   "source": [
    "countarrayw=countarrayw.reshape(305,1)"
   ]
  },
  {
   "cell_type": "code",
   "execution_count": 113,
   "metadata": {
    "collapsed": false
   },
   "outputs": [],
   "source": [
    "montharrayw=np.arange(0,305).reshape(305,1)"
   ]
  },
  {
   "cell_type": "code",
   "execution_count": 134,
   "metadata": {
    "collapsed": false
   },
   "outputs": [
    {
     "data": {
      "text/plain": [
       "array([[ 7],\n",
       "       [ 8],\n",
       "       [15],\n",
       "       [23],\n",
       "       [10],\n",
       "       [ 7],\n",
       "       [ 9],\n",
       "       [28],\n",
       "       [15],\n",
       "       [25],\n",
       "       [15],\n",
       "       [17],\n",
       "       [20],\n",
       "       [13],\n",
       "       [20],\n",
       "       [15],\n",
       "       [25],\n",
       "       [19],\n",
       "       [20],\n",
       "       [23],\n",
       "       [30],\n",
       "       [34],\n",
       "       [13],\n",
       "       [27],\n",
       "       [40],\n",
       "       [26],\n",
       "       [15],\n",
       "       [16],\n",
       "       [15],\n",
       "       [ 8],\n",
       "       [36],\n",
       "       [18],\n",
       "       [19],\n",
       "       [14],\n",
       "       [14],\n",
       "       [11],\n",
       "       [24],\n",
       "       [23],\n",
       "       [34],\n",
       "       [19],\n",
       "       [31],\n",
       "       [37],\n",
       "       [51],\n",
       "       [30],\n",
       "       [18],\n",
       "       [35],\n",
       "       [28],\n",
       "       [13],\n",
       "       [10],\n",
       "       [22],\n",
       "       [17],\n",
       "       [ 8],\n",
       "       [ 6],\n",
       "       [18],\n",
       "       [ 9],\n",
       "       [14],\n",
       "       [15],\n",
       "       [11],\n",
       "       [30],\n",
       "       [35],\n",
       "       [41],\n",
       "       [18],\n",
       "       [19],\n",
       "       [29],\n",
       "       [26],\n",
       "       [22],\n",
       "       [21],\n",
       "       [20],\n",
       "       [31],\n",
       "       [28],\n",
       "       [24],\n",
       "       [40],\n",
       "       [55],\n",
       "       [40],\n",
       "       [24],\n",
       "       [23],\n",
       "       [40],\n",
       "       [74],\n",
       "       [16],\n",
       "       [17],\n",
       "       [25],\n",
       "       [14],\n",
       "       [20],\n",
       "       [25],\n",
       "       [24],\n",
       "       [30],\n",
       "       [12],\n",
       "       [27],\n",
       "       [29],\n",
       "       [40],\n",
       "       [62],\n",
       "       [24],\n",
       "       [30],\n",
       "       [19],\n",
       "       [28],\n",
       "       [32],\n",
       "       [39],\n",
       "       [24],\n",
       "       [44],\n",
       "       [20],\n",
       "       [20],\n",
       "       [13],\n",
       "       [31],\n",
       "       [15],\n",
       "       [ 9],\n",
       "       [11],\n",
       "       [21],\n",
       "       [17],\n",
       "       [29],\n",
       "       [36],\n",
       "       [17],\n",
       "       [17],\n",
       "       [21],\n",
       "       [24],\n",
       "       [35],\n",
       "       [38],\n",
       "       [31],\n",
       "       [43],\n",
       "       [25],\n",
       "       [17],\n",
       "       [26],\n",
       "       [22],\n",
       "       [41],\n",
       "       [28],\n",
       "       [30],\n",
       "       [21],\n",
       "       [33],\n",
       "       [36],\n",
       "       [29],\n",
       "       [25],\n",
       "       [13],\n",
       "       [ 9],\n",
       "       [ 7],\n",
       "       [14],\n",
       "       [11],\n",
       "       [15],\n",
       "       [14],\n",
       "       [25],\n",
       "       [25],\n",
       "       [ 8],\n",
       "       [11],\n",
       "       [29],\n",
       "       [28],\n",
       "       [25],\n",
       "       [20],\n",
       "       [31],\n",
       "       [20],\n",
       "       [ 7],\n",
       "       [ 2],\n",
       "       [ 9],\n",
       "       [27],\n",
       "       [20],\n",
       "       [18],\n",
       "       [21],\n",
       "       [36],\n",
       "       [28],\n",
       "       [ 7],\n",
       "       [26],\n",
       "       [21],\n",
       "       [21],\n",
       "       [14],\n",
       "       [17],\n",
       "       [25],\n",
       "       [11],\n",
       "       [19],\n",
       "       [20],\n",
       "       [13],\n",
       "       [23],\n",
       "       [14],\n",
       "       [28],\n",
       "       [21],\n",
       "       [22],\n",
       "       [39],\n",
       "       [21],\n",
       "       [20],\n",
       "       [28],\n",
       "       [28],\n",
       "       [28],\n",
       "       [38],\n",
       "       [45],\n",
       "       [36],\n",
       "       [47],\n",
       "       [53],\n",
       "       [ 7],\n",
       "       [13],\n",
       "       [31],\n",
       "       [80],\n",
       "       [21],\n",
       "       [30],\n",
       "       [47],\n",
       "       [49],\n",
       "       [33],\n",
       "       [53],\n",
       "       [41],\n",
       "       [33],\n",
       "       [57],\n",
       "       [72],\n",
       "       [40],\n",
       "       [74],\n",
       "       [38],\n",
       "       [54],\n",
       "       [86],\n",
       "       [26],\n",
       "       [40],\n",
       "       [ 9],\n",
       "       [26],\n",
       "       [20],\n",
       "       [30],\n",
       "       [13],\n",
       "       [11],\n",
       "       [27],\n",
       "       [28],\n",
       "       [17],\n",
       "       [31],\n",
       "       [18],\n",
       "       [24],\n",
       "       [19],\n",
       "       [51],\n",
       "       [42],\n",
       "       [46],\n",
       "       [29],\n",
       "       [30],\n",
       "       [54],\n",
       "       [53],\n",
       "       [32],\n",
       "       [38],\n",
       "       [29],\n",
       "       [56],\n",
       "       [43],\n",
       "       [43],\n",
       "       [47],\n",
       "       [46],\n",
       "       [40],\n",
       "       [31],\n",
       "       [38],\n",
       "       [31],\n",
       "       [42],\n",
       "       [43],\n",
       "       [47],\n",
       "       [37],\n",
       "       [52],\n",
       "       [32],\n",
       "       [27],\n",
       "       [25],\n",
       "       [29],\n",
       "       [35],\n",
       "       [41],\n",
       "       [40],\n",
       "       [50],\n",
       "       [38],\n",
       "       [51],\n",
       "       [41],\n",
       "       [35],\n",
       "       [39],\n",
       "       [30],\n",
       "       [13],\n",
       "       [15],\n",
       "       [22],\n",
       "       [47],\n",
       "       [25],\n",
       "       [13],\n",
       "       [24],\n",
       "       [18],\n",
       "       [21],\n",
       "       [26],\n",
       "       [21],\n",
       "       [44],\n",
       "       [20],\n",
       "       [20],\n",
       "       [30],\n",
       "       [20],\n",
       "       [35],\n",
       "       [37],\n",
       "       [38],\n",
       "       [49],\n",
       "       [60],\n",
       "       [50],\n",
       "       [62],\n",
       "       [53],\n",
       "       [49],\n",
       "       [52],\n",
       "       [44],\n",
       "       [29],\n",
       "       [29],\n",
       "       [30],\n",
       "       [26],\n",
       "       [57],\n",
       "       [27],\n",
       "       [20],\n",
       "       [32],\n",
       "       [42],\n",
       "       [27],\n",
       "       [34],\n",
       "       [20],\n",
       "       [32],\n",
       "       [39],\n",
       "       [20],\n",
       "       [13],\n",
       "       [28],\n",
       "       [57],\n",
       "       [44],\n",
       "       [71],\n",
       "       [48],\n",
       "       [67],\n",
       "       [60]])"
      ]
     },
     "execution_count": 134,
     "metadata": {},
     "output_type": "execute_result"
    }
   ],
   "source": [
    "countarrayw"
   ]
  },
  {
   "cell_type": "code",
   "execution_count": 114,
   "metadata": {
    "collapsed": false
   },
   "outputs": [
    {
     "name": "stdout",
     "output_type": "stream",
     "text": [
      "Coefficients: \n",
      "[[ 0.06903214]]\n"
     ]
    }
   ],
   "source": [
    "regr = linear_model.LinearRegression()\n",
    "regr.fit(xtrain, ytrain)\n",
    "print 'Coefficients: \\n', regr.coef_"
   ]
  },
  {
   "cell_type": "code",
   "execution_count": 115,
   "metadata": {
    "collapsed": true
   },
   "outputs": [],
   "source": [
    "from sklearn.cross_validation import train_test_split"
   ]
  },
  {
   "cell_type": "code",
   "execution_count": 131,
   "metadata": {
    "collapsed": false
   },
   "outputs": [],
   "source": [
    "mtrain, mtest, countrain, countest = train_test_split(montharrayw, countarrayw, test_size=0.20, random_state=0)"
   ]
  },
  {
   "cell_type": "code",
   "execution_count": 136,
   "metadata": {
    "collapsed": false
   },
   "outputs": [],
   "source": [
    "mtrain = mtrain.reshape(244,1)\n"
   ]
  },
  {
   "cell_type": "code",
   "execution_count": 137,
   "metadata": {
    "collapsed": false
   },
   "outputs": [],
   "source": [
    "mtest = mtest.reshape(61,1)"
   ]
  },
  {
   "cell_type": "code",
   "execution_count": 138,
   "metadata": {
    "collapsed": false
   },
   "outputs": [],
   "source": [
    "countrain= countrain.reshape(244,1)"
   ]
  },
  {
   "cell_type": "code",
   "execution_count": 139,
   "metadata": {
    "collapsed": false
   },
   "outputs": [],
   "source": [
    "countest =countest.reshape(61,1)\n"
   ]
  },
  {
   "cell_type": "code",
   "execution_count": 140,
   "metadata": {
    "collapsed": false
   },
   "outputs": [
    {
     "name": "stdout",
     "output_type": "stream",
     "text": [
      "Coefficients: \n",
      "[[ 0.06903214]]\n"
     ]
    }
   ],
   "source": [
    "regr = linear_model.LinearRegression()\n",
    "regr.fit(mtrain, countrain)\n",
    "print 'Coefficients: \\n', regr.coef_"
   ]
  },
  {
   "cell_type": "code",
   "execution_count": 39,
   "metadata": {
    "collapsed": false
   },
   "outputs": [
    {
     "name": "stdout",
     "output_type": "stream",
     "text": [
      "Coefficients: \n",
      "[[ 0.06625938]]\n"
     ]
    }
   ],
   "source": [
    "regr = linear_model.LinearRegression()\n",
    "regr.fit(xtest, ytest)\n",
    "print 'Coefficients: \\n', regr.coef_"
   ]
  },
  {
   "cell_type": "code",
   "execution_count": 75,
   "metadata": {
    "collapsed": false
   },
   "outputs": [
    {
     "name": "stdout",
     "output_type": "stream",
     "text": [
      "Coefficients: \n",
      "[[ 0.06903214]]\n"
     ]
    }
   ],
   "source": [
    "regr = linear_model.LinearRegression()\n",
    "regr.fit(xtrain, ytrain)\n",
    "print 'Coefficients: \\n', regr.coef_"
   ]
  },
  {
   "cell_type": "code",
   "execution_count": 108,
   "metadata": {
    "collapsed": false
   },
   "outputs": [
    {
     "name": "stdout",
     "output_type": "stream",
     "text": [
      "Coefficients: \n",
      "[[ 0.06793297]]\n"
     ]
    }
   ],
   "source": [
    "regr = linear_model.LinearRegression()\n",
    "regr.fit(montharrayw, countarrayw)\n",
    "print 'Coefficients: \\n', regr.coef_"
   ]
  },
  {
   "cell_type": "code",
   "execution_count": 122,
   "metadata": {
    "collapsed": false
   },
   "outputs": [],
   "source": [
    "ytrainpred = regr.predict(xtrain)"
   ]
  },
  {
   "cell_type": "code",
   "execution_count": 129,
   "metadata": {
    "collapsed": true
   },
   "outputs": [],
   "source": [
    "ytraincountpred=regr.predict(ytrain)"
   ]
  },
  {
   "cell_type": "code",
   "execution_count": 123,
   "metadata": {
    "collapsed": true
   },
   "outputs": [],
   "source": [
    "ytestpred = regr.predict(xtest)"
   ]
  },
  {
   "cell_type": "code",
   "execution_count": 130,
   "metadata": {
    "collapsed": false
   },
   "outputs": [
    {
     "data": {
      "text/plain": [
       "<matplotlib.collections.PathCollection at 0x11346a6d0>"
      ]
     },
     "execution_count": 130,
     "metadata": {},
     "output_type": "execute_result"
    },
    {
     "data": {
      "image/png": "[encoded data removed]",
      "text/plain": [
       "<matplotlib.figure.Figure at 0x11346a5d0>"
      ]
     },
     "metadata": {},
     "output_type": "display_data"
    }
   ],
   "source": [
    "plt.scatter(xtrain, ytraincountpred, color='blue')\n",
    "#plt.scatter(ytestpred, ytest, color='green')\n",
    "plt.scatter(montharrayw, countarrayw, color = 'red')\n",
    "\n",
    "\n",
    "\n",
    "\n"
   ]
  },
  {
   "cell_type": "code",
   "execution_count": 81,
   "metadata": {
    "collapsed": false
   },
   "outputs": [
    {
     "name": "stdout",
     "output_type": "stream",
     "text": [
      "MSE train: 179.530, test: 156.309\n"
     ]
    }
   ],
   "source": [
    "from sklearn.metrics import mean_squared_error\n",
    "print 'MSE train: %.3f, test: %.3f' %( mean_squared_error(ytrain, ytrainpred),  mean_squared_error(ytest, ytestpred))"
   ]
  },
  {
   "cell_type": "code",
   "execution_count": 83,
   "metadata": {
    "collapsed": false
   },
   "outputs": [],
   "source": [
    "from sklearn.metrics import r2_score"
   ]
  },
  {
   "cell_type": "code",
   "execution_count": 84,
   "metadata": {
    "collapsed": false
   },
   "outputs": [
    {
     "name": "stdout",
     "output_type": "stream",
     "text": [
      "R^2 train: 0.173, test: 0.153\n"
     ]
    }
   ],
   "source": [
    "print 'R^2 train: %.3f, test: %.3f' %(r2_score(ytrain, ytrainpred), r2_score(ytest, ytestpred))"
   ]
  },
  {
   "cell_type": "code",
   "execution_count": 74,
   "metadata": {
    "collapsed": false
   },
   "outputs": [
    {
     "data": {
      "image/png": "[encoded data removed]",
      "text/plain": [
       "<matplotlib.figure.Figure at 0x113ec5710>"
      ]
     },
     "metadata": {},
     "output_type": "display_data"
    }
   ],
   "source": [
    "#plt.scatter(montharrayw, countarrayw,  color='blue')\n",
    "plt.scatter(xtrain, ytrain,  color='green')\n",
    "plt.scatter(xtrain, ytrainpred,  color='red')\n",
    "plt.scatter(xtest, ytestpred, color='blue', linewidth=3)\n",
    "#plt.plot(xtrain, regr.predict(xtrain), color='black', linewidth=3)\n",
    "#plt.plot(xtest, regr.predict(xtest), color='blue', linewidth=3)\n",
    "\n",
    "\n",
    "#plt.plot(montharrayw, regr.predict(montharrayw), color='black',linewidth=3)\n",
    "\n",
    "#plt.plot(montharray, regr.predict(montharray), color = 'black')\n",
    "plt.xticks(())\n",
    "plt.yticks(())\n",
    "\n",
    "plt.show()"
   ]
  },
  {
   "cell_type": "code",
   "execution_count": null,
   "metadata": {
    "collapsed": true
   },
   "outputs": [],
   "source": []
  },
  {
   "cell_type": "code",
   "execution_count": 55,
   "metadata": {
    "collapsed": true
   },
   "outputs": [],
   "source": [
    "countpredict=regr.predict(ytest)"
   ]
  },
  {
   "cell_type": "code",
   "execution_count": 57,
   "metadata": {
    "collapsed": false
   },
   "outputs": [],
   "source": [
    "monthpredict = regr.predict(xtest)"
   ]
  },
  {
   "cell_type": "code",
   "execution_count": 58,
   "metadata": {
    "collapsed": false
   },
   "outputs": [
    {
     "name": "stdout",
     "output_type": "stream",
     "text": [
      "Coefficients: \n",
      "[[ 0.06793297]]\n"
     ]
    }
   ],
   "source": [
    "regr = linear_model.LinearRegression()\n",
    "regr.fit(ytest, countpredict)\n",
    "print 'Coefficients: \\n', regr.coef_"
   ]
  },
  {
   "cell_type": "code",
   "execution_count": 67,
   "metadata": {
    "collapsed": false
   },
   "outputs": [
    {
     "data": {
      "image/png": "[encoded data removed]",
      "text/plain": [
       "<matplotlib.figure.Figure at 0x113bef3d0>"
      ]
     },
     "metadata": {},
     "output_type": "display_data"
    }
   ],
   "source": [
    "#plt.scatter(montharrayw, countarrayw,  color='blue')\n",
    "plt.scatter(xtrain, ytrain,  color='green')\n",
    "plt.scatter(xtest, ytest,  color='red')\n",
    "plt.plot(montharrayw, regr.predict(montharrayw), color='blue', linewidth=3)\n",
    "plt.plot(xtrain, regr.predict(xtrain), color='black', linewidth=3)\n",
    "plt.plot(xtest, regr.predict(xtest), color='blue', linewidth=3)\n",
    "\n",
    "\n",
    "#plt.plot(montharrayw, regr.predict(montharrayw), color='black',linewidth=3)\n",
    "\n",
    "#plt.plot(montharray, regr.predict(montharray), color = 'black')\n",
    "plt.xticks(())\n",
    "plt.yticks(())\n",
    "\n",
    "plt.show()"
   ]
  },
  {
   "cell_type": "code",
   "execution_count": null,
   "metadata": {
    "collapsed": true
   },
   "outputs": [],
   "source": [
    "plt.scatter()"
   ]
  },
  {
   "cell_type": "code",
   "execution_count": null,
   "metadata": {
    "collapsed": true
   },
   "outputs": [],
   "source": []
  },
  {
   "cell_type": "code",
   "execution_count": null,
   "metadata": {
    "collapsed": true
   },
   "outputs": [],
   "source": []
  },
  {
   "cell_type": "code",
   "execution_count": null,
   "metadata": {
    "collapsed": true
   },
   "outputs": [],
   "source": []
  },
  {
   "cell_type": "code",
   "execution_count": 24,
   "metadata": {
    "collapsed": false
   },
   "outputs": [
    {
     "data": {
      "image/png": "[encoded data removed]",
      "text/plain": [
       "<matplotlib.figure.Figure at 0x113340210>"
      ]
     },
     "metadata": {},
     "output_type": "display_data"
    }
   ],
   "source": [
    "plt.scatter(montharrayw, countarrayw,  color='blue')\n",
    "\n",
    "plt.plot(montharrayw, regr.predict(montharrayw), color='black',linewidth=3)\n",
    "\n",
    "#plt.plot(montharray, regr.predict(montharray), color = 'black')\n",
    "plt.xticks(())\n",
    "plt.yticks(())\n",
    "\n",
    "plt.show()"
   ]
  },
  {
   "cell_type": "code",
   "execution_count": null,
   "metadata": {
    "collapsed": true
   },
   "outputs": [],
   "source": []
  },
  {
   "cell_type": "code",
   "execution_count": null,
   "metadata": {
    "collapsed": true
   },
   "outputs": [],
   "source": []
  },
  {
   "cell_type": "code",
   "execution_count": 107,
   "metadata": {
    "collapsed": true
   },
   "outputs": [],
   "source": [
    "data2014['created_date']=pd.to_datetime(data2014['created_date'])\n",
    "data2014.index = data2014.created_date\n",
    "data2014['count'] = 1\n",
    "dateandcount2014 = data2014['count']\n",
    "dfweek2014=dateandcount2014.resample('W',how='sum')\n",
    "data2015['created_date']=pd.to_datetime(data2015['created_date'])\n",
    "data2015.index = data2015.created_date\n",
    "data2015['count'] = 1\n",
    "dateandcount2015 = data2015['count']\n",
    "dfweek2015=dateandcount2015.resample('W',how='sum')\n",
    "data['created_date']=pd.to_datetime(data['created_date'])\n",
    "data.index = data.created_date\n",
    "data['count'] = 1\n",
    "dateandcount = data['count']\n",
    "dfweek=dateandcount.resample('W',how='sum')"
   ]
  },
  {
   "cell_type": "code",
   "execution_count": 108,
   "metadata": {
    "collapsed": true
   },
   "outputs": [],
   "source": []
  },
  {
   "cell_type": "code",
   "execution_count": 112,
   "metadata": {
    "collapsed": true
   },
   "outputs": [],
   "source": [
    "countarrayw=dfweek.values\n",
    "countarrayw[np.isnan(countarrayw)] = 0"
   ]
  },
  {
   "cell_type": "code",
   "execution_count": 113,
   "metadata": {
    "collapsed": false
   },
   "outputs": [
    {
     "data": {
      "text/plain": [
       "96"
      ]
     },
     "execution_count": 113,
     "metadata": {},
     "output_type": "execute_result"
    }
   ],
   "source": [
    "len(countarrayw)"
   ]
  },
  {
   "cell_type": "code",
   "execution_count": 114,
   "metadata": {
    "collapsed": true
   },
   "outputs": [],
   "source": [
    "montharrayw=np.arange(0,96).reshape(96,1)"
   ]
  },
  {
   "cell_type": "code",
   "execution_count": 115,
   "metadata": {
    "collapsed": false
   },
   "outputs": [
    {
     "name": "stdout",
     "output_type": "stream",
     "text": [
      "Coefficients: \n",
      "[ 0.25337765]\n"
     ]
    }
   ],
   "source": [
    "regr = linear_model.LinearRegression()\n",
    "regr.fit(montharrayw, countarrayw)\n",
    "print 'Coefficients: \\n', regr.coef_"
   ]
  },
  {
   "cell_type": "code",
   "execution_count": 109,
   "metadata": {
    "collapsed": true
   },
   "outputs": [],
   "source": [
    "countarraym=dfmonth.values\n",
    "countarraym[np.isnan(countarraym)] = 0"
   ]
  },
  {
   "cell_type": "code",
   "execution_count": null,
   "metadata": {
    "collapsed": true
   },
   "outputs": [],
   "source": [
    "plt.scatter(montharraym, countarraym,  color='blue')\n",
    "\n",
    "plt.plot(montharraym, regr.predict(montharraym), color='black',linewidth=3)\n",
    "\n",
    "#plt.plot(montharray, regr.predict(montharray), color = 'black')\n",
    "plt.xticks(())\n",
    "plt.yticks(())\n",
    "\n",
    "plt.show()"
   ]
  },
  {
   "cell_type": "code",
   "execution_count": 118,
   "metadata": {
    "collapsed": false
   },
   "outputs": [],
   "source": [
    "countarraym=countarraym.reshape(22,1)"
   ]
  },
  {
   "cell_type": "code",
   "execution_count": 117,
   "metadata": {
    "collapsed": true
   },
   "outputs": [],
   "source": [
    "montharraym=np.arange(0,22).reshape(22,1)"
   ]
  },
  {
   "cell_type": "code",
   "execution_count": 119,
   "metadata": {
    "collapsed": false
   },
   "outputs": [
    {
     "name": "stdout",
     "output_type": "stream",
     "text": [
      "Coefficients: \n",
      "[[ 4.93732355]]\n"
     ]
    }
   ],
   "source": [
    "regr = linear_model.LinearRegression()\n",
    "regr.fit(montharraym, countarraym)\n",
    "print 'Coefficients: \\n', regr.coef_"
   ]
  },
  {
   "cell_type": "code",
   "execution_count": 122,
   "metadata": {
    "collapsed": false
   },
   "outputs": [
    {
     "data": {
      "image/png": "[encoded data removed]",
      "text/plain": [
       "<matplotlib.figure.Figure at 0x117ef5950>"
      ]
     },
     "metadata": {},
     "output_type": "display_data"
    }
   ],
   "source": [
    "plt.scatter(montharraym, countarraym,  color='blue')\n",
    "\n",
    "plt.plot(montharraym, regr.predict(montharraym), color='black',linewidth=3)\n",
    "\n",
    "#plt.plot(montharray, regr.predict(montharray), color = 'black')\n",
    "plt.xticks(())\n",
    "plt.yticks(())\n",
    "\n",
    "plt.show()"
   ]
  },
  {
   "cell_type": "code",
   "execution_count": 51,
   "metadata": {
    "collapsed": false
   },
   "outputs": [
    {
     "name": "stderr",
     "output_type": "stream",
     "text": [
      "/usr/local/lib/python2.7/site-packages/ipykernel/__main__.py:4: VisibleDeprecationWarning: boolean index did not match indexed array along dimension 0; dimension is 44 but corresponding boolean dimension is 96\n",
      "/usr/local/lib/python2.7/site-packages/ipykernel/__main__.py:6: VisibleDeprecationWarning: boolean index did not match indexed array along dimension 0; dimension is 44 but corresponding boolean dimension is 96\n"
     ]
    }
   ],
   "source": [
    "countarray=dfweek.values\n",
    "countarray[np.isnan(countarray)] = 0\n",
    "countarray2014=dfweek2014.values\n",
    "countarray2014[np.isnan(countarray)] = 0\n",
    "countarray2015=dfweek2015.values\n",
    "countarray2015[np.isnan(countarray)] = 0"
   ]
  },
  {
   "cell_type": "code",
   "execution_count": 53,
   "metadata": {
    "collapsed": false
   },
   "outputs": [],
   "source": [
    "len(countarray)\n",
    "montharray=np.arange(0,96).reshape(96,1)"
   ]
  },
  {
   "cell_type": "code",
   "execution_count": 55,
   "metadata": {
    "collapsed": false
   },
   "outputs": [],
   "source": [
    "from sklearn.cross_validation import train_test_split"
   ]
  },
  {
   "cell_type": "code",
   "execution_count": 56,
   "metadata": {
    "collapsed": true
   },
   "outputs": [],
   "source": [
    "xtrain, xtest, ytrain, ytest = train_test_split(montharray, countarray, test_size=0.20, random_state=0)"
   ]
  },
  {
   "cell_type": "code",
   "execution_count": 69,
   "metadata": {
    "collapsed": false
   },
   "outputs": [],
   "source": [
    "xtrain=xtrain.reshape(76,1)"
   ]
  },
  {
   "cell_type": "code",
   "execution_count": 70,
   "metadata": {
    "collapsed": false
   },
   "outputs": [],
   "source": [
    "xtest=xtest.reshape(20,1)"
   ]
  },
  {
   "cell_type": "code",
   "execution_count": 71,
   "metadata": {
    "collapsed": false
   },
   "outputs": [],
   "source": [
    "ytrain=ytrain.reshape(76,1)"
   ]
  },
  {
   "cell_type": "code",
   "execution_count": 72,
   "metadata": {
    "collapsed": false
   },
   "outputs": [],
   "source": [
    "ytest=ytest.reshape(20,1)"
   ]
  },
  {
   "cell_type": "code",
   "execution_count": 73,
   "metadata": {
    "collapsed": false
   },
   "outputs": [
    {
     "name": "stdout",
     "output_type": "stream",
     "text": [
      "Coefficients: \n",
      "[[ 0.28490728]]\n"
     ]
    }
   ],
   "source": [
    "regr = linear_model.LinearRegression()\n",
    "regr.fit(xtrain, ytrain)\n",
    "print 'Coefficients: \\n', regr.coef_"
   ]
  },
  {
   "cell_type": "code",
   "execution_count": 95,
   "metadata": {
    "collapsed": false
   },
   "outputs": [
    {
     "name": "stdout",
     "output_type": "stream",
     "text": [
      "Coefficients: \n",
      "[[ 0.28490728]]\n"
     ]
    }
   ],
   "source": [
    "regr = linear_model.LinearRegression()\n",
    "regr.fit(ytest, countpredict)\n",
    "print 'Coefficients: \\n', regr.coef_"
   ]
  },
  {
   "cell_type": "code",
   "execution_count": 11,
   "metadata": {
    "collapsed": false
   },
   "outputs": [
    {
     "ename": "NameError",
     "evalue": "name 'ytest' is not defined",
     "output_type": "error",
     "traceback": [
      "\u001b[0;31m---------------------------------------------------------------------------\u001b[0m",
      "\u001b[0;31mNameError\u001b[0m                                 Traceback (most recent call last)",
      "\u001b[0;32m<ipython-input-11-74dc53e9a342>\u001b[0m in \u001b[0;36m<module>\u001b[0;34m()\u001b[0m\n\u001b[1;32m      1\u001b[0m \u001b[0mregr\u001b[0m \u001b[0;34m=\u001b[0m \u001b[0mlinear_model\u001b[0m\u001b[0;34m.\u001b[0m\u001b[0mLinearRegression\u001b[0m\u001b[0;34m(\u001b[0m\u001b[0;34m)\u001b[0m\u001b[0;34m\u001b[0m\u001b[0m\n\u001b[0;32m----> 2\u001b[0;31m \u001b[0mregr\u001b[0m\u001b[0;34m.\u001b[0m\u001b[0mfit\u001b[0m\u001b[0;34m(\u001b[0m\u001b[0mytest\u001b[0m\u001b[0;34m,\u001b[0m \u001b[0mxtest\u001b[0m\u001b[0;34m)\u001b[0m\u001b[0;34m\u001b[0m\u001b[0m\n\u001b[0m\u001b[1;32m      3\u001b[0m \u001b[0;32mprint\u001b[0m \u001b[0;34m'Coefficients: \\n'\u001b[0m\u001b[0;34m,\u001b[0m \u001b[0mregr\u001b[0m\u001b[0;34m.\u001b[0m\u001b[0mcoef_\u001b[0m\u001b[0;34m\u001b[0m\u001b[0m\n",
      "\u001b[0;31mNameError\u001b[0m: name 'ytest' is not defined"
     ]
    }
   ],
   "source": [
    "regr = linear_model.LinearRegression()\n",
    "regr.fit(ytest, xtest)\n",
    "print 'Coefficients: \\n', regr.coef_"
   ]
  },
  {
   "cell_type": "code",
   "execution_count": 96,
   "metadata": {
    "collapsed": false
   },
   "outputs": [
    {
     "name": "stdout",
     "output_type": "stream",
     "text": [
      "Coefficients: \n",
      "[ 0.25337765]\n"
     ]
    }
   ],
   "source": [
    "regr = linear_model.LinearRegression()\n",
    "regr.fit(montharray, countarray)\n",
    "print 'Coefficients: \\n', regr.coef_"
   ]
  },
  {
   "cell_type": "code",
   "execution_count": 76,
   "metadata": {
    "collapsed": false
   },
   "outputs": [],
   "source": [
    "countpredict=regr.predict(ytest)"
   ]
  },
  {
   "cell_type": "code",
   "execution_count": 99,
   "metadata": {
    "collapsed": false
   },
   "outputs": [
    {
     "data": {
      "image/png": "[encoded data removed]",
      "text/plain": [
       "<matplotlib.figure.Figure at 0x117d3d7d0>"
      ]
     },
     "metadata": {},
     "output_type": "display_data"
    }
   ],
   "source": [
    "plt.scatter(montharray, countarray,  color='blue')\n",
    "plt.scatter(xtrain, ytrain, color='green')\n",
    "plt.scatter(xtest, ytest, color = 'blue')\n",
    "plt.plot(xtest, regr.predict(xtest), color='black',linewidth=3)\n",
    "plt.plot(montharray, regr.predict(montharray), color ='red', linewidth=3)\n",
    "\n",
    "#plt.plot(montharray, regr.predict(montharray), color = 'black')\n",
    "plt.xticks(())\n",
    "plt.yticks(())\n",
    "\n",
    "plt.show()"
   ]
  },
  {
   "cell_type": "code",
   "execution_count": null,
   "metadata": {
    "collapsed": true
   },
   "outputs": [],
   "source": [
    "#try validating on one year?"
   ]
  },
  {
   "cell_type": "code",
   "execution_count": 23,
   "metadata": {
    "collapsed": true
   },
   "outputs": [],
   "source": [
    "montharray2014=np.arange(0,44).reshape(44,1)"
   ]
  },
  {
   "cell_type": "code",
   "execution_count": 31,
   "metadata": {
    "collapsed": false
   },
   "outputs": [],
   "source": [
    "countarray2015=countarray2015.reshape(44,1)\n",
    "countarray2014=countarray2014.reshape(44,1)"
   ]
  },
  {
   "cell_type": "code",
   "execution_count": 25,
   "metadata": {
    "collapsed": false
   },
   "outputs": [
    {
     "data": {
      "text/plain": [
       "44"
      ]
     },
     "execution_count": 25,
     "metadata": {},
     "output_type": "execute_result"
    }
   ],
   "source": [
    "len(countarray2015)"
   ]
  },
  {
   "cell_type": "code",
   "execution_count": 26,
   "metadata": {
    "collapsed": false
   },
   "outputs": [
    {
     "data": {
      "text/plain": [
       "44"
      ]
     },
     "execution_count": 26,
     "metadata": {},
     "output_type": "execute_result"
    }
   ],
   "source": [
    "montharray2015=np.arange(44,88).reshape(44,1)\n",
    "len(montharray2015)"
   ]
  },
  {
   "cell_type": "code",
   "execution_count": 34,
   "metadata": {
    "collapsed": false
   },
   "outputs": [
    {
     "name": "stdout",
     "output_type": "stream",
     "text": [
      "Coefficients: \n",
      "[[ 0.5584919]]\n"
     ]
    }
   ],
   "source": [
    "regr = linear_model.LinearRegression()\n",
    "regr.fit(montharray2014, countarray2014)\n",
    "print 'Coefficients: \\n', regr.coef_"
   ]
  },
  {
   "cell_type": "code",
   "execution_count": 33,
   "metadata": {
    "collapsed": false
   },
   "outputs": [],
   "source": [
    "count2015predict=regr.predict(countarray2015)"
   ]
  },
  {
   "cell_type": "code",
   "execution_count": 41,
   "metadata": {
    "collapsed": false
   },
   "outputs": [],
   "source": [
    "regr = linear_model.LinearRegression()\n"
   ]
  },
  {
   "cell_type": "code",
   "execution_count": null,
   "metadata": {
    "collapsed": false
   },
   "outputs": [],
   "source": []
  },
  {
   "cell_type": "code",
   "execution_count": 37,
   "metadata": {
    "collapsed": false
   },
   "outputs": [
    {
     "data": {
      "image/png": "[encoded data removed]",
      "text/plain": [
       "<matplotlib.figure.Figure at 0x11849fc10>"
      ]
     },
     "metadata": {},
     "output_type": "display_data"
    }
   ],
   "source": [
    "plt.scatter(montharray2015, countarray2015,  color='black')\n",
    "plt.scatter(montharray2014, countarray2014, color='blue')\n",
    "plt.scatter(montharray2015, count2015predict, color = 'red')\n",
    "plt.plot(montharray2015, regr.predict(montharray2015), color='black',linewidth=3)\n",
    "\n",
    "#plt.plot(montharray, regr.predict(montharray), color = 'black')\n",
    "plt.xticks(())\n",
    "plt.yticks(())\n",
    "\n",
    "plt.show()"
   ]
  },
  {
   "cell_type": "code",
   "execution_count": 207,
   "metadata": {
    "collapsed": false
   },
   "outputs": [
    {
     "name": "stdout",
     "output_type": "stream",
     "text": [
      "10001\n",
      "10002\n",
      "10003\n",
      "10004\n",
      "10005\n",
      "10006\n",
      "10007\n",
      "10009\n",
      "10010\n",
      "10011\n",
      "10012\n",
      "10013\n",
      "10014\n",
      "10016\n",
      "10017\n",
      "10018\n",
      "10019\n",
      "10020\n",
      "10021\n",
      "10022\n",
      "10023\n",
      "10024\n",
      "10025\n",
      "10026\n",
      "10027\n",
      "10028\n",
      "10029\n",
      "10030\n",
      "10031\n",
      "10032\n",
      "10033\n",
      "10034\n",
      "10035\n",
      "10036\n",
      "10037\n",
      "10038\n",
      "10039\n",
      "10040\n",
      "10044\n",
      "10065\n",
      "10069\n",
      "10075\n",
      "10103\n",
      "10110\n",
      "10111\n",
      "10112\n",
      "10115\n",
      "10119\n",
      "10128\n",
      "10152\n",
      "10153\n",
      "10154\n",
      "10162\n",
      "10165\n",
      "10167\n",
      "10168\n",
      "10169\n",
      "10170\n",
      "10171\n",
      "10172\n",
      "10173\n",
      "10174\n",
      "10177\n",
      "10199\n",
      "10271\n",
      "10278\n",
      "10279\n",
      "10280\n",
      "10282\n",
      "10301\n",
      "10302\n",
      "10303\n",
      "10304\n",
      "10305\n",
      "10306\n",
      "10307\n",
      "10308\n",
      "10309\n",
      "10310\n",
      "10311\n",
      "10312\n",
      "10314\n",
      "10451\n",
      "10452\n",
      "10453\n",
      "10454\n",
      "10455\n",
      "10456\n",
      "10457\n",
      "10458\n",
      "10459\n",
      "10460\n",
      "10461\n",
      "10462\n",
      "10463\n",
      "10464\n",
      "10465\n",
      "10466\n",
      "10467\n",
      "10468\n",
      "10469\n",
      "10470\n",
      "10471\n",
      "10472\n",
      "10473\n",
      "10474\n",
      "10475\n",
      "11004\n",
      "11005\n",
      "11101\n",
      "11102\n",
      "11103\n",
      "11104\n",
      "11105\n",
      "11106\n",
      "11109\n",
      "11201\n",
      "11203\n",
      "11204\n",
      "11205\n",
      "11206\n",
      "11207\n",
      "11208\n",
      "11209\n",
      "11210\n",
      "11211\n",
      "11212\n",
      "11213\n",
      "11214\n",
      "11215\n",
      "11216\n",
      "11217\n",
      "11218\n",
      "11219\n",
      "11220\n",
      "11221\n",
      "11222\n",
      "11223\n",
      "11224\n",
      "11225\n",
      "11226\n",
      "11228\n",
      "11229\n",
      "11230\n",
      "11231\n",
      "11232\n",
      "11233\n",
      "11234\n",
      "11235\n",
      "11236\n",
      "11237\n",
      "11238\n",
      "11239\n",
      "11351\n",
      "11354\n",
      "11355\n",
      "11356\n",
      "11357\n",
      "11358\n",
      "11359\n",
      "11360\n",
      "11361\n",
      "11362\n",
      "11363\n",
      "11364\n",
      "11365\n",
      "11366\n",
      "11367\n",
      "11368\n",
      "11369\n",
      "11370\n",
      "11371\n",
      "11372\n",
      "11373\n",
      "11374\n",
      "11375\n",
      "11377\n",
      "11378\n",
      "11379\n",
      "11385\n",
      "11411\n",
      "11412\n",
      "11413\n",
      "11414\n",
      "11415\n",
      "11416\n",
      "11417\n",
      "11418\n",
      "11419\n",
      "11420\n",
      "11421\n",
      "11422\n",
      "11423\n",
      "11424\n",
      "11425\n",
      "11426\n",
      "11427\n",
      "11428\n",
      "11429\n",
      "11430\n",
      "11432\n",
      "11433\n",
      "11434\n",
      "11435\n",
      "11436\n",
      "11451\n",
      "11691\n",
      "11692\n",
      "11693\n",
      "11694\n",
      "11697\n"
     ]
    }
   ],
   "source": [
    "ziplist = [10001, 10002, 10003, 10004, 10005, 10006, 10007, 10009, 10010, 10011, 10012, 10013, 10014, 10016, 10017, 10018, 10019, 10020, 10021, 10022, 10023, 10024, 10025, 10026, 10027, 10028, 10029, 10030, 10031, 10032, 10033, 10034, 10035, 10036, 10037, 10038, 10039, 10040, 10044, 10065, 10069, 10075, 10103, 10110, 10111, 10112, 10115, 10119, 10128, 10152, 10153, 10154, 10162, 10165, 10167, 10168, 10169, 10170, 10171, 10172, 10173, 10174, 10177, 10199, 10271, 10278, 10279, 10280, 10282, 10301, 10302, 10303, 10304, 10305, 10306, 10307, 10308, 10309, 10310, 10311, 10312, 10314, 10451, 10452, 10453, 10454, 10455, 10456, 10457, 10458, 10459, 10460, 10461, 10462, 10463, 10464, 10465, 10466, 10467, 10468, 10469, 10470, 10471, 10472, 10473, 10474, 10475, 11004, 11005, 11101, 11102, 11103, 11104, 11105, 11106, 11109, 11201, 11203, 11204, 11205, 11206, 11207, 11208, 11209, 11210, 11211, 11212, 11213, 11214, 11215, 11216, 11217, 11218, 11219, 11220, 11221, 11222, 11223, 11224, 11225, 11226, 11228, 11229, 11230, 11231, 11232, 11233, 11234, 11235, 11236, 11237, 11238, 11239, 11351, 11354, 11355, 11356, 11357, 11358, 11359, 11360, 11361, 11362, 11363, 11364, 11365, 11366, 11367, 11368, 11369, 11370, 11371, 11372, 11373, 11374, 11375, 11377, 11378, 11379, 11385, 11411, 11412, 11413, 11414, 11415, 11416, 11417, 11418, 11419, 11420, 11421, 11422, 11423, 11424, 11425, 11426, 11427, 11428, 11429, 11430, 11432, 11433, 11434, 11435, 11436, 11451, 11691, 11692, 11693, 11694, 11697]\n",
    "slopedictmonth = {}\n",
    "failslope={}\n",
    "for zipcode in ziplist:\n",
    "    try:\n",
    "        con = mdb.connect('localhost', 'root', '', 'noisecomplaintsnewcoord2')\n",
    "        data = pd.read_sql('SELECT * FROM noisecomplaintsnewcoordtable2 WHERE incident_zip = \"%s\"  AND created_date <= \"2015-10-31\" AND created_date >= \"2014-01-01\"' %(zipcode), con)\n",
    "        countsofzip = len(data)\n",
    "        data['created_date']=pd.to_datetime(data['created_date'])\n",
    "        data.index = data.created_date\n",
    "        data['count'] = 1\n",
    "        dateandcount = data['count']\n",
    "        dfmonth=dateandcount.resample('M',how='sum')\n",
    "        countarray=dfmonth.values\n",
    "        countarray[np.isnan(countarray)] = 0\n",
    "        montharray=np.arange(0,len(countarray)).reshape(len(countarray),1)\n",
    "        regr = linear_model.LinearRegression()\n",
    "        regr.fit(montharray, countarray)\n",
    "        zipslope=float(regr.coef_)\n",
    "        slopedictmonth[zipcode]=zipslope\n",
    "    except:\n",
    "        failslope[zipcode]=1\n",
    "    print zipcode"
   ]
  },
  {
   "cell_type": "code",
   "execution_count": 208,
   "metadata": {
    "collapsed": false
   },
   "outputs": [
    {
     "data": {
      "text/plain": [
       "{10001: 1.4184076792772446,\n",
       " 10002: 2.8226990400903436,\n",
       " 10003: 4.937323546019197,\n",
       " 10004: 0.26764539808018095,\n",
       " 10005: -0.09542631281761717,\n",
       " 10006: 0.46245059288537566,\n",
       " 10007: 1.4647092038396388,\n",
       " 10009: 2.2834556747600225,\n",
       " 10010: 1.6741953698475434,\n",
       " 10011: 2.215132693393563,\n",
       " 10012: 1.9277244494635803,\n",
       " 10013: 1.4178430265386792,\n",
       " 10014: 2.6053077357425183,\n",
       " 10016: -1.667419536984754,\n",
       " 10017: 2.40824392998306,\n",
       " 10018: 1.4895539243365328,\n",
       " 10019: 3.6380575945793314,\n",
       " 10020: 0.025974025974025965,\n",
       " 10021: 0.024280067758328874,\n",
       " 10022: 0.15697346132128726,\n",
       " 10023: 1.0310559006211186,\n",
       " 10024: 1.352907961603614,\n",
       " 10025: 3.3828345567476,\n",
       " 10026: 7.884810841332582,\n",
       " 10027: 8.745341614906833,\n",
       " 10028: 5.932806324110672,\n",
       " 10029: 6.824957651044609,\n",
       " 10030: 4.537549407114625,\n",
       " 10031: 12.975155279503106,\n",
       " 10032: 4.206662902315079,\n",
       " 10033: 3.423489553924337,\n",
       " 10034: 11.504234895539245,\n",
       " 10035: 5.096555618294751,\n",
       " 10036: 2.0175042348955388,\n",
       " 10037: 1.1547148503670241,\n",
       " 10038: 0.21852060982495736,\n",
       " 10039: 2.1744776962168273,\n",
       " 10040: 11.370412196499153,\n",
       " 10044: -0.005081874647092053,\n",
       " 10065: 1.95313382269904,\n",
       " 10069: 0.2669172932330827,\n",
       " 10075: 0.9666854884246187,\n",
       " 10103: 0.0,\n",
       " 10111: -0.021428571428571436,\n",
       " 10112: 7.850462293418875e-17,\n",
       " 10119: 5.496422999943653e-18,\n",
       " 10128: 5.223037831733484,\n",
       " 10153: 6.6348516088687505e-18,\n",
       " 10162: 0.11403508771929823,\n",
       " 10280: 0.48334274421230944,\n",
       " 10282: -0.5857142857142855,\n",
       " 10301: 1.116883116883117,\n",
       " 10302: 0.5646527385657819,\n",
       " 10303: 0.04291360813099943,\n",
       " 10304: 0.21569734613212874,\n",
       " 10305: 1.6933935629587802,\n",
       " 10306: 0.3529079616036139,\n",
       " 10307: 0.35742518351214003,\n",
       " 10308: 1.5036702428006774,\n",
       " 10309: 0.4421230942970073,\n",
       " 10310: 1.2964426877470354,\n",
       " 10312: 0.23433088650479977,\n",
       " 10314: 0.5415019762845852,\n",
       " 10451: 2.2608695652173925,\n",
       " 10452: 5.8932806324110665,\n",
       " 10453: 4.434782608695653,\n",
       " 10454: 1.1061547148503672,\n",
       " 10455: 2.1264822134387353,\n",
       " 10456: 6.3766233766233755,\n",
       " 10457: 7.168831168831171,\n",
       " 10458: 2.8785996612083555,\n",
       " 10459: 1.8927159796725017,\n",
       " 10460: 3.736871823828346,\n",
       " 10461: 0.9260304912478827,\n",
       " 10462: 1.3167701863354044,\n",
       " 10463: 3.085262563523433,\n",
       " 10464: 0.3794466403162056,\n",
       " 10465: 1.0717108977978544,\n",
       " 10466: 1.2619988706945229,\n",
       " 10467: -0.17334839073969432,\n",
       " 10468: 4.4110671936758905,\n",
       " 10469: 1.6533032185206098,\n",
       " 10470: 0.2710333145115753,\n",
       " 10471: 0.6493506493506492,\n",
       " 10472: 7.370976849237719,\n",
       " 10473: 1.235460191981931,\n",
       " 10474: 0.3325804630152456,\n",
       " 10475: 0.36753246753246743,\n",
       " 11004: 0.9158667419536985,\n",
       " 11005: -0.03516483516483515,\n",
       " 11101: 1.605872388481084,\n",
       " 11102: 0.8322981366459627,\n",
       " 11103: 2.437041219649916,\n",
       " 11104: 2.137775268210051,\n",
       " 11105: 2.167701863354037,\n",
       " 11106: 0.3489553924336534,\n",
       " 11109: 0.35968379446640314,\n",
       " 11201: 4.173913043478262,\n",
       " 11203: 1.2399774138904576,\n",
       " 11204: 0.08469791078486742,\n",
       " 11205: 1.3173348390739696,\n",
       " 11206: 7.936194240542067,\n",
       " 11207: 3.5691699604743077,\n",
       " 11208: 2.1970638057594574,\n",
       " 11209: 0.8667419536984754,\n",
       " 11210: 0.6832298136645961,\n",
       " 11211: 12.977413890457367,\n",
       " 11212: 1.7882552230378317,\n",
       " 11213: 5.009034443817051,\n",
       " 11214: 1.4867306606437043,\n",
       " 11215: 2.9796725014116308,\n",
       " 11216: 5.81535855448899,\n",
       " 11217: 5.195369847543761,\n",
       " 11218: 1.536420101637493,\n",
       " 11219: -0.047430830039525584,\n",
       " 11220: 5.659514398644832,\n",
       " 11221: 6.849237718802933,\n",
       " 11222: 3.725014116318466,\n",
       " 11223: 0.5115753811405984,\n",
       " 11224: 1.2512704686617728,\n",
       " 11225: 7.924336533032184,\n",
       " 11226: 4.069452286843591,\n",
       " 11228: 0.5719932241671375,\n",
       " 11229: 1.5974025974025972,\n",
       " 11230: 0.7199322416713722,\n",
       " 11231: 0.21739130434782603,\n",
       " 11232: 2.2173913043478266,\n",
       " 11233: 2.716544325239977,\n",
       " 11234: 0.8385093167701866,\n",
       " 11235: 2.058723884810842,\n",
       " 11236: 1.4263128176171656,\n",
       " 11237: 5.22755505364201,\n",
       " 11238: 11.23715415019763,\n",
       " 11239: -0.05366357069143445,\n",
       " 11354: 1.0310559006211182,\n",
       " 11355: 0.2168266516092608,\n",
       " 11356: 0.07114624505928856,\n",
       " 11357: 0.3534726143421796,\n",
       " 11358: 0.6007905138339922,\n",
       " 11360: -0.03387916431394684,\n",
       " 11361: 0.06549971767363078,\n",
       " 11362: 0.24901185770750986,\n",
       " 11363: 0.16883116883116883,\n",
       " 11364: 0.3077357425183511,\n",
       " 11365: 0.26312817617165435,\n",
       " 11366: 3.8729531338226986,\n",
       " 11367: -0.5883681535855446,\n",
       " 11368: 2.241671372106155,\n",
       " 11369: 0.12478825522303776,\n",
       " 11370: -0.06324110671936756,\n",
       " 11372: 0.4127611518915875,\n",
       " 11373: 1.9311123658949745,\n",
       " 11374: 1.4968944099378878,\n",
       " 11375: 1.6832298136645962,\n",
       " 11377: 1.434782608695653,\n",
       " 11378: 0.7041219649915302,\n",
       " 11379: 0.49858836815358565,\n",
       " 11385: 5.116883116883117,\n",
       " 11411: 0.031055900621117977,\n",
       " 11412: 0.41389045736871827,\n",
       " 11413: 0.5290796160361378,\n",
       " 11414: 2.096555618294749,\n",
       " 11415: 0.7577639751552796,\n",
       " 11416: 0.8285714285714283,\n",
       " 11417: 0.06493506493506518,\n",
       " 11418: 0.9136081309994346,\n",
       " 11419: 1.3534726143421794,\n",
       " 11420: 0.994918125352908,\n",
       " 11421: 1.1948051948051948,\n",
       " 11422: 0.7814793901750421,\n",
       " 11423: 1.7419536984754376,\n",
       " 11426: 0.3783173348390739,\n",
       " 11427: 0.45680406549971764,\n",
       " 11428: 0.10446075663466967,\n",
       " 11429: 0.04291360813099943,\n",
       " 11430: 0.018575851393188868,\n",
       " 11432: 1.5245623941276119,\n",
       " 11433: 0.9079616036137775,\n",
       " 11434: 0.44607566346696764,\n",
       " 11435: 0.46357989836250707,\n",
       " 11436: 0.4116318464144552,\n",
       " 11691: 1.0491247882552233,\n",
       " 11692: 0.18859401468097114,\n",
       " 11693: 0.23263692828910207,\n",
       " 11694: 1.504799548277809,\n",
       " 11697: 0.0735294117647059}"
      ]
     },
     "execution_count": 208,
     "metadata": {},
     "output_type": "execute_result"
    }
   ],
   "source": [
    "slopedictmonth"
   ]
  },
  {
   "cell_type": "code",
   "execution_count": 210,
   "metadata": {
    "collapsed": false
   },
   "outputs": [],
   "source": [
    "import pickle\n",
    "pickle.dump( slopedictmonth, open(\"slopedictmonth.p\", \"wb\" ) )"
   ]
  },
  {
   "cell_type": "code",
   "execution_count": 212,
   "metadata": {
    "collapsed": false
   },
   "outputs": [
    {
     "name": "stdout",
     "output_type": "stream",
     "text": [
      "10001\n",
      "10002\n",
      "10003\n",
      "10004\n",
      "10005\n",
      "10006\n",
      "10007\n",
      "10009\n",
      "10010\n",
      "10011\n",
      "10012\n",
      "10013\n",
      "10014\n",
      "10016\n",
      "10017\n",
      "10018\n",
      "10019\n",
      "10020\n",
      "10021\n",
      "10022\n",
      "10023\n",
      "10024\n",
      "10025\n",
      "10026\n",
      "10027\n",
      "10028\n",
      "10029\n",
      "10030\n",
      "10031\n",
      "10032\n",
      "10033\n",
      "10034\n",
      "10035\n",
      "10036\n",
      "10037\n",
      "10038\n",
      "10039\n",
      "10040\n",
      "10044\n",
      "10065\n",
      "10069\n",
      "10075\n",
      "10103\n",
      "10110\n",
      "10111\n",
      "10112\n",
      "10115\n",
      "10119\n",
      "10128\n",
      "10152\n",
      "10153\n",
      "10154\n",
      "10162\n",
      "10165\n",
      "10167\n",
      "10168\n",
      "10169\n",
      "10170\n",
      "10171\n",
      "10172\n",
      "10173\n",
      "10174\n",
      "10177\n",
      "10199\n",
      "10271\n",
      "10278\n",
      "10279\n",
      "10280\n",
      "10282\n",
      "10301\n",
      "10302\n",
      "10303\n",
      "10304\n",
      "10305\n",
      "10306\n",
      "10307\n",
      "10308\n",
      "10309\n",
      "10310\n",
      "10311\n",
      "10312\n",
      "10314\n",
      "10451\n",
      "10452\n",
      "10453\n",
      "10454\n",
      "10455\n",
      "10456\n",
      "10457\n",
      "10458\n",
      "10459\n",
      "10460\n",
      "10461\n",
      "10462\n",
      "10463\n",
      "10464\n",
      "10465\n",
      "10466\n",
      "10467\n",
      "10468\n",
      "10469\n",
      "10470\n",
      "10471\n",
      "10472\n",
      "10473\n",
      "10474\n",
      "10475\n",
      "11004\n",
      "11005\n",
      "11101\n",
      "11102\n",
      "11103\n",
      "11104\n",
      "11105\n",
      "11106\n",
      "11109\n",
      "11201\n",
      "11203\n",
      "11204\n",
      "11205\n",
      "11206\n",
      "11207\n",
      "11208\n",
      "11209\n",
      "11210\n",
      "11211\n",
      "11212\n",
      "11213\n",
      "11214\n",
      "11215\n",
      "11216\n",
      "11217\n",
      "11218\n",
      "11219\n",
      "11220\n",
      "11221\n",
      "11222\n",
      "11223\n",
      "11224\n",
      "11225\n",
      "11226\n",
      "11228\n",
      "11229\n",
      "11230\n",
      "11231\n",
      "11232\n",
      "11233\n",
      "11234\n",
      "11235\n",
      "11236\n",
      "11237\n",
      "11238\n",
      "11239\n",
      "11351\n",
      "11354\n",
      "11355\n",
      "11356\n",
      "11357\n",
      "11358\n",
      "11359\n",
      "11360\n",
      "11361\n",
      "11362\n",
      "11363\n",
      "11364\n",
      "11365\n",
      "11366\n",
      "11367\n",
      "11368\n",
      "11369\n",
      "11370\n",
      "11371\n",
      "11372\n",
      "11373\n",
      "11374\n",
      "11375\n",
      "11377\n",
      "11378\n",
      "11379\n",
      "11385\n",
      "11411\n",
      "11412\n",
      "11413\n",
      "11414\n",
      "11415\n",
      "11416\n",
      "11417\n",
      "11418\n",
      "11419\n",
      "11420\n",
      "11421\n",
      "11422\n",
      "11423\n",
      "11424\n",
      "11425\n",
      "11426\n",
      "11427\n",
      "11428\n",
      "11429\n",
      "11430\n",
      "11432\n",
      "11433\n",
      "11434\n",
      "11435\n",
      "11436\n",
      "11451\n",
      "11691\n",
      "11692\n",
      "11693\n",
      "11694\n",
      "11697\n"
     ]
    }
   ],
   "source": [
    "ziplist = [10001, 10002, 10003, 10004, 10005, 10006, 10007, 10009, 10010, 10011, 10012, 10013, 10014, 10016, 10017, 10018, 10019, 10020, 10021, 10022, 10023, 10024, 10025, 10026, 10027, 10028, 10029, 10030, 10031, 10032, 10033, 10034, 10035, 10036, 10037, 10038, 10039, 10040, 10044, 10065, 10069, 10075, 10103, 10110, 10111, 10112, 10115, 10119, 10128, 10152, 10153, 10154, 10162, 10165, 10167, 10168, 10169, 10170, 10171, 10172, 10173, 10174, 10177, 10199, 10271, 10278, 10279, 10280, 10282, 10301, 10302, 10303, 10304, 10305, 10306, 10307, 10308, 10309, 10310, 10311, 10312, 10314, 10451, 10452, 10453, 10454, 10455, 10456, 10457, 10458, 10459, 10460, 10461, 10462, 10463, 10464, 10465, 10466, 10467, 10468, 10469, 10470, 10471, 10472, 10473, 10474, 10475, 11004, 11005, 11101, 11102, 11103, 11104, 11105, 11106, 11109, 11201, 11203, 11204, 11205, 11206, 11207, 11208, 11209, 11210, 11211, 11212, 11213, 11214, 11215, 11216, 11217, 11218, 11219, 11220, 11221, 11222, 11223, 11224, 11225, 11226, 11228, 11229, 11230, 11231, 11232, 11233, 11234, 11235, 11236, 11237, 11238, 11239, 11351, 11354, 11355, 11356, 11357, 11358, 11359, 11360, 11361, 11362, 11363, 11364, 11365, 11366, 11367, 11368, 11369, 11370, 11371, 11372, 11373, 11374, 11375, 11377, 11378, 11379, 11385, 11411, 11412, 11413, 11414, 11415, 11416, 11417, 11418, 11419, 11420, 11421, 11422, 11423, 11424, 11425, 11426, 11427, 11428, 11429, 11430, 11432, 11433, 11434, 11435, 11436, 11451, 11691, 11692, 11693, 11694, 11697]\n",
    "slopedictweek = {}\n",
    "failslope={}\n",
    "for zipcode in ziplist:\n",
    "    try:\n",
    "        con = mdb.connect('localhost', 'root', '', 'noisecomplaintsnewcoord2')\n",
    "        data = pd.read_sql('SELECT * FROM noisecomplaintsnewcoordtable2 WHERE incident_zip = \"%s\"  AND created_date <= \"2015-10-31\" AND created_date >= \"2014-01-01\"' %(zipcode), con)\n",
    "        countsofzip = len(data)\n",
    "        data['created_date']=pd.to_datetime(data['created_date'])\n",
    "        data.index = data.created_date\n",
    "        data['count'] = 1\n",
    "        dateandcount = data['count']\n",
    "        dfmonth=dateandcount.resample('W',how='sum')\n",
    "        countarray=dfmonth.values\n",
    "        countarray[np.isnan(countarray)] = 0\n",
    "        montharray=np.arange(0,len(countarray)).reshape(len(countarray),1)\n",
    "        regr = linear_model.LinearRegression()\n",
    "        regr.fit(montharray, countarray)\n",
    "        zipslope=float(regr.coef_)\n",
    "        slopedictweek[zipcode]=zipslope\n",
    "    except:\n",
    "        failslope[zipcode]=1\n",
    "    print zipcode"
   ]
  },
  {
   "cell_type": "code",
   "execution_count": 213,
   "metadata": {
    "collapsed": true
   },
   "outputs": [],
   "source": [
    "import pickle\n",
    "pickle.dump( slopedictweek, open(\"slopedictweek.p\", \"wb\" ) )"
   ]
  },
  {
   "cell_type": "code",
   "execution_count": 230,
   "metadata": {
    "collapsed": true
   },
   "outputs": [],
   "source": [
    "slopedictweek = pickle.load(open(\"slopedictweek.p\", \"rb\"))\n"
   ]
  },
  {
   "cell_type": "code",
   "execution_count": 231,
   "metadata": {
    "collapsed": false
   },
   "outputs": [
    {
     "data": {
      "text/plain": [
       "{10001: 0.07246337493217578,\n",
       " 10002: 0.1396703743895822,\n",
       " 10003: 0.2533776451437875,\n",
       " 10004: 0.011562150055991044,\n",
       " 10005: -0.002963917525773206,\n",
       " 10006: 0.020128779395296753,\n",
       " 10007: 0.07679055887140536,\n",
       " 10009: 0.1138225718936516,\n",
       " 10010: 0.0858043950081389,\n",
       " 10011: 0.11467037438958233,\n",
       " 10012: 0.09551003798155179,\n",
       " 10013: 0.07042186652197507,\n",
       " 10014: 0.130615843733044,\n",
       " 10016: -0.08908708627238195,\n",
       " 10017: 0.12199538795442222,\n",
       " 10018: 0.07794357026587088,\n",
       " 10019: 0.1846242539338036,\n",
       " 10020: 0.0014718801535070804,\n",
       " 10021: -0.0009020618556701144,\n",
       " 10022: 0.006199131850244195,\n",
       " 10023: 0.049430276722734666,\n",
       " 10024: 0.06835322843190449,\n",
       " 10025: 0.17431497558328818,\n",
       " 10026: 0.4059278350515464,\n",
       " 10027: 0.4487791644058599,\n",
       " 10028: 0.31221513836136744,\n",
       " 10029: 0.3440789473684211,\n",
       " 10030: 0.2366928920238741,\n",
       " 10031: 0.6670306565382527,\n",
       " 10032: 0.2073928377645145,\n",
       " 10033: 0.17195469343461747,\n",
       " 10034: 0.5935973955507327,\n",
       " 10035: 0.2644601193705914,\n",
       " 10036: 0.10536489419424853,\n",
       " 10037: 0.0586340206185567,\n",
       " 10038: 0.01075013564839937,\n",
       " 10039: 0.10867861142217247,\n",
       " 10040: 0.580663320672816,\n",
       " 10044: -0.0007138857782754793,\n",
       " 10065: 0.09950488334237657,\n",
       " 10069: 0.014062974587425328,\n",
       " 10075: 0.050162778079218644,\n",
       " 10103: 0.0,\n",
       " 10111: -0.0010926573426573432,\n",
       " 10112: 2.11711223939835e-17,\n",
       " 10119: 6.859373475888894e-19,\n",
       " 10128: 0.27259902333152486,\n",
       " 10153: 0.0,\n",
       " 10162: 0.006426484907497564,\n",
       " 10280: 0.02408951497310543,\n",
       " 10282: -0.03202864551179158,\n",
       " 10301: 0.058857840477482375,\n",
       " 10302: 0.028947368421052642,\n",
       " 10303: 0.0012208355941399874,\n",
       " 10304: 0.010919696147585459,\n",
       " 10305: 0.08786625067824202,\n",
       " 10306: 0.017464731416169294,\n",
       " 10307: 0.01597144456886898,\n",
       " 10308: 0.07680571108622622,\n",
       " 10309: 0.02316196418882258,\n",
       " 10310: 0.06667118827997831,\n",
       " 10312: 0.011821758003255557,\n",
       " 10314: 0.027190721649484547,\n",
       " 10451: 0.11569451980466633,\n",
       " 10452: 0.30391345632121536,\n",
       " 10453: 0.2220464725643898,\n",
       " 10454: 0.052212549217931586,\n",
       " 10455: 0.10706886898096307,\n",
       " 10456: 0.33136869234943017,\n",
       " 10457: 0.3704150841020075,\n",
       " 10458: 0.1481958762886598,\n",
       " 10459: 0.09248320268757002,\n",
       " 10460: 0.19377373846988605,\n",
       " 10461: 0.04765328269126425,\n",
       " 10462: 0.06749864351600653,\n",
       " 10463: 0.1588171459576777,\n",
       " 10464: 0.020792544160676225,\n",
       " 10465: 0.053639417693169114,\n",
       " 10466: 0.0646432447097124,\n",
       " 10467: -0.011374118285404192,\n",
       " 10468: 0.21947088465845463,\n",
       " 10469: 0.08541779706999456,\n",
       " 10470: 0.009941119098363625,\n",
       " 10471: 0.0368701007838746,\n",
       " 10472: 0.3795984807379274,\n",
       " 10473: 0.06727594552613517,\n",
       " 10474: 0.01903695408734603,\n",
       " 10475: 0.02062430323299889,\n",
       " 11004: 0.04703247480403137,\n",
       " 11005: -0.0025974025974025935,\n",
       " 11101: 0.08263700488334248,\n",
       " 11102: 0.041494845360824734,\n",
       " 11103: 0.12208355941399893,\n",
       " 11104: 0.11059413998914816,\n",
       " 11105: 0.11205236028214867,\n",
       " 11106: 0.014405860010851835,\n",
       " 11109: 0.017885241454150845,\n",
       " 11201: 0.21486706456863813,\n",
       " 11203: 0.06341562669560498,\n",
       " 11204: 0.0029028757460661876,\n",
       " 11205: 0.06910607704829079,\n",
       " 11206: 0.4124728703201304,\n",
       " 11207: 0.1845564297341291,\n",
       " 11208: 0.11248643516006517,\n",
       " 11209: 0.04337357569180682,\n",
       " 11210: 0.030963045912653978,\n",
       " 11211: 0.6720903418339667,\n",
       " 11212: 0.09015957446808516,\n",
       " 11213: 0.2587154096581661,\n",
       " 11214: 0.07712289744981012,\n",
       " 11215: 0.15217715680954957,\n",
       " 11216: 0.2980263157894737,\n",
       " 11217: 0.2657013022246338,\n",
       " 11218: 0.07894058600108517,\n",
       " 11219: -0.004055887140531747,\n",
       " 11220: 0.29318366793271833,\n",
       " 11221: 0.3530249593054802,\n",
       " 11222: 0.1908776451437873,\n",
       " 11223: 0.026505697232772633,\n",
       " 11224: 0.061884098544232935,\n",
       " 11225: 0.41123168746608796,\n",
       " 11226: 0.2060702658708628,\n",
       " 11228: 0.0241809052487086,\n",
       " 11229: 0.08273874118285404,\n",
       " 11230: 0.0351668475311991,\n",
       " 11231: 0.008376288659793866,\n",
       " 11232: 0.10953247480403142,\n",
       " 11233: 0.13847666847531204,\n",
       " 11234: 0.04192213781877371,\n",
       " 11235: 0.10695876288659795,\n",
       " 11236: 0.07032474804031358,\n",
       " 11237: 0.2658708627238199,\n",
       " 11238: 0.5816942485078676,\n",
       " 11239: -0.0028831927566104775,\n",
       " 11354: 0.05033594624860023,\n",
       " 11355: 0.009807379272924587,\n",
       " 11356: -0.0007138857782754751,\n",
       " 11357: 0.01779706999457406,\n",
       " 11358: 0.030927835051546382,\n",
       " 11360: -0.002869540873460248,\n",
       " 11361: 0.00015397536394176734,\n",
       " 11362: 0.012533198054370203,\n",
       " 11363: 0.009902439776212565,\n",
       " 11364: 0.016039509414819006,\n",
       " 11365: 0.013768312533912102,\n",
       " 11366: 0.1928764945995738,\n",
       " 11367: -0.031144872490504617,\n",
       " 11368: 0.10765677491601347,\n",
       " 11369: 0.0006438969764837655,\n",
       " 11370: -0.003526858383071081,\n",
       " 11372: 0.01803445469343464,\n",
       " 11373: 0.09475083986562152,\n",
       " 11374: 0.07828947368421052,\n",
       " 11375: 0.08579083016820403,\n",
       " 11377: 0.0727821486706457,\n",
       " 11378: 0.03338465845464727,\n",
       " 11379: 0.024328107502799557,\n",
       " 11385: 0.2664270211611504,\n",
       " 11411: 0.0012818773738469847,\n",
       " 11412: 0.019316909294512886,\n",
       " 11413: 0.03134098544232923,\n",
       " 11414: 0.10887458006718927,\n",
       " 11415: 0.03918882257189365,\n",
       " 11416: 0.04292341599494474,\n",
       " 11417: 0.0020550732501356515,\n",
       " 11418: 0.04636462289744981,\n",
       " 11419: 0.06925529028757461,\n",
       " 11420: 0.050027129679869754,\n",
       " 11421: 0.0606348345089528,\n",
       " 11422: 0.04015192620727075,\n",
       " 11423: 0.09666853303471448,\n",
       " 11426: 0.020330166528194204,\n",
       " 11427: 0.02385377102550191,\n",
       " 11428: 0.005570205541306937,\n",
       " 11429: 0.004464834013654589,\n",
       " 11430: 0.0012233285917496453,\n",
       " 11432: 0.07980195333695064,\n",
       " 11433: 0.04500279955207168,\n",
       " 11434: 0.02093054801953337,\n",
       " 11435: 0.02310770482908302,\n",
       " 11436: 0.022067380860016104,\n",
       " 11691: 0.052939529675251965,\n",
       " 11692: 0.009713228492136907,\n",
       " 11693: 0.011584373304395013,\n",
       " 11694: 0.07624580067189252,\n",
       " 11697: 0.0040517075053058075}"
      ]
     },
     "execution_count": 231,
     "metadata": {},
     "output_type": "execute_result"
    }
   ],
   "source": [
    "slopedictweek"
   ]
  },
  {
   "cell_type": "code",
   "execution_count": 211,
   "metadata": {
    "collapsed": false
   },
   "outputs": [],
   "source": [
    "slopedictmonth = pickle.load(open(\"slopedictmonth.p\", \"rb\"))"
   ]
  },
  {
   "cell_type": "code",
   "execution_count": 217,
   "metadata": {
    "collapsed": false
   },
   "outputs": [],
   "source": [
    "slopedictweekdf=pd.DataFrame(slopedictweek.items())"
   ]
  },
  {
   "cell_type": "code",
   "execution_count": 219,
   "metadata": {
    "collapsed": false
   },
   "outputs": [],
   "source": [
    "slopedictweekdf.columns=['zipcode' , 'slope']"
   ]
  },
  {
   "cell_type": "code",
   "execution_count": 220,
   "metadata": {
    "collapsed": true
   },
   "outputs": [],
   "source": [
    "slopedictmonthdf=pd.DataFrame(slopedictmonth.items())"
   ]
  },
  {
   "cell_type": "code",
   "execution_count": 226,
   "metadata": {
    "collapsed": true
   },
   "outputs": [],
   "source": [
    "slopedictmonthdf.columns=['zipcode' , 'slope']"
   ]
  },
  {
   "cell_type": "code",
   "execution_count": 228,
   "metadata": {
    "collapsed": false
   },
   "outputs": [],
   "source": [
    "slopedictmonthdf.to_csv('slopedictmonth')"
   ]
  },
  {
   "cell_type": "code",
   "execution_count": 229,
   "metadata": {
    "collapsed": true
   },
   "outputs": [],
   "source": [
    "slopedictweekdf.to_csv('slopedictweek')"
   ]
  },
  {
   "cell_type": "code",
   "execution_count": null,
   "metadata": {
    "collapsed": true
   },
   "outputs": [],
   "source": []
  }
 ],
 "metadata": {
  "kernelspec": {
   "display_name": "Python 2",
   "language": "python",
   "name": "python2"
  },
  "language_info": {
   "codemirror_mode": {
    "name": "ipython",
    "version": 2
   },
   "file_extension": ".py",
   "mimetype": "text/x-python",
   "name": "python",
   "nbconvert_exporter": "python",
   "pygments_lexer": "ipython2",
   "version": "2.7.11"
  }
 },
 "nbformat": 4,
 "nbformat_minor": 0
}
